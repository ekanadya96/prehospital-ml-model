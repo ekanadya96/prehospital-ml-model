{
  "nbformat": 4,
  "nbformat_minor": 0,
  "metadata": {
    "colab": {
      "name": "Model_GOne.ipynb",
      "provenance": [],
      "collapsed_sections": []
    },
    "kernelspec": {
      "name": "python3",
      "display_name": "Python 3"
    },
    "language_info": {
      "name": "python"
    }
  },
  "cells": [
    {
      "cell_type": "code",
      "metadata": {
        "id": "jRLE985EN9cy"
      },
      "source": [
        " import pandas as pd\n",
        "import numpy as np\n",
        "from sklearn.linear_model import LogisticRegression\n",
        "from sklearn.metrics import classification_report\n",
        "from sklearn.metrics import confusion_matrix, accuracy_score"
      ],
      "execution_count": null,
      "outputs": []
    },
    {
      "cell_type": "code",
      "metadata": {
        "colab": {
          "base_uri": "https://localhost:8080/",
          "height": 377
        },
        "id": "jvv5YumkO83n",
        "outputId": "e5ac7619-7c17-40c3-9afc-df5bcc7531d7"
      },
      "source": [
        "df = pd.read_csv('training.csv')\n",
        "df.head()"
      ],
      "execution_count": null,
      "outputs": [
        {
          "output_type": "execute_result",
          "data": {
            "text/html": [
              "<div>\n",
              "<style scoped>\n",
              "    .dataframe tbody tr th:only-of-type {\n",
              "        vertical-align: middle;\n",
              "    }\n",
              "\n",
              "    .dataframe tbody tr th {\n",
              "        vertical-align: top;\n",
              "    }\n",
              "\n",
              "    .dataframe thead th {\n",
              "        text-align: right;\n",
              "    }\n",
              "</style>\n",
              "<table border=\"1\" class=\"dataframe\">\n",
              "  <thead>\n",
              "    <tr style=\"text-align: right;\">\n",
              "      <th></th>\n",
              "      <th>prognosa</th>\n",
              "      <th>nyeri</th>\n",
              "      <th>mual dan muntah</th>\n",
              "      <th>kelelahan</th>\n",
              "      <th>batuk</th>\n",
              "      <th>demam tinggi</th>\n",
              "      <th>kesulitan bernapas</th>\n",
              "      <th>sakit kepala</th>\n",
              "      <th>sakit leher</th>\n",
              "      <th>sakit lutut</th>\n",
              "      <th>nyeri sendi pinggul</th>\n",
              "      <th>kelemahan otot</th>\n",
              "      <th>leher kaku</th>\n",
              "      <th>bengkak atau memar</th>\n",
              "      <th>gerakan kaku</th>\n",
              "      <th>kelemahan satu sisi tubuh</th>\n",
              "      <th>sensor berubah</th>\n",
              "      <th>riwayat keluarga</th>\n",
              "      <th>dahak berlendir</th>\n",
              "      <th>sakit saat berjalan</th>\n",
              "      <th>kebingungan</th>\n",
              "      <th>hilang kesadaran</th>\n",
              "      <th>penurunan kesadaran</th>\n",
              "      <th>penglihatan kabur</th>\n",
              "      <th>telinga berdering</th>\n",
              "      <th>mati rasa atau kesemutan</th>\n",
              "      <th>kesulitan mengontrol BAB dan BAK</th>\n",
              "      <th>kesulitan berjalan</th>\n",
              "      <th>lumpuh</th>\n",
              "      <th>lupa kejadian</th>\n",
              "      <th>gelisah</th>\n",
              "      <th>kesulitan berbicara</th>\n",
              "      <th>nadi lemah</th>\n",
              "      <th>tangan dan kaki dingin</th>\n",
              "      <th>kehilangan keseimbangan</th>\n",
              "      <th>kejang</th>\n",
              "      <th>kejang otot</th>\n",
              "      <th>tulang mencuat keluar dari kulit</th>\n",
              "      <th>sulit menggerakkan bagian tubuh</th>\n",
              "      <th>deformitas</th>\n",
              "      <th>kemampuan gerak terbatas</th>\n",
              "      <th>detak jantung bertambah</th>\n",
              "      <th>pucat</th>\n",
              "      <th>lemas</th>\n",
              "      <th>otot kaku</th>\n",
              "      <th>bentuk sendi tidak normal</th>\n",
              "      <th>kram otot</th>\n",
              "      <th>perut kaku</th>\n",
              "      <th>sakit perut</th>\n",
              "      <th>berkeringat</th>\n",
              "      <th>tekanan darah rendah</th>\n",
              "      <th>perdarahan akut</th>\n",
              "      <th>denyut nadi cepat</th>\n",
              "      <th>warna kulit kebiruan</th>\n",
              "    </tr>\n",
              "  </thead>\n",
              "  <tbody>\n",
              "    <tr>\n",
              "      <th>0</th>\n",
              "      <td>Asma bronkial</td>\n",
              "      <td>0</td>\n",
              "      <td>0</td>\n",
              "      <td>1</td>\n",
              "      <td>1</td>\n",
              "      <td>1</td>\n",
              "      <td>1</td>\n",
              "      <td>0</td>\n",
              "      <td>0</td>\n",
              "      <td>0</td>\n",
              "      <td>0</td>\n",
              "      <td>0</td>\n",
              "      <td>0</td>\n",
              "      <td>0</td>\n",
              "      <td>0</td>\n",
              "      <td>0</td>\n",
              "      <td>0</td>\n",
              "      <td>1</td>\n",
              "      <td>1</td>\n",
              "      <td>0</td>\n",
              "      <td>0</td>\n",
              "      <td>0</td>\n",
              "      <td>0</td>\n",
              "      <td>0</td>\n",
              "      <td>0</td>\n",
              "      <td>0</td>\n",
              "      <td>0</td>\n",
              "      <td>0</td>\n",
              "      <td>0</td>\n",
              "      <td>0</td>\n",
              "      <td>0</td>\n",
              "      <td>0</td>\n",
              "      <td>0</td>\n",
              "      <td>0</td>\n",
              "      <td>0</td>\n",
              "      <td>0</td>\n",
              "      <td>0</td>\n",
              "      <td>0</td>\n",
              "      <td>0</td>\n",
              "      <td>0</td>\n",
              "      <td>0</td>\n",
              "      <td>0</td>\n",
              "      <td>0</td>\n",
              "      <td>0</td>\n",
              "      <td>0</td>\n",
              "      <td>0</td>\n",
              "      <td>0</td>\n",
              "      <td>0</td>\n",
              "      <td>0</td>\n",
              "      <td>0</td>\n",
              "      <td>0</td>\n",
              "      <td>0</td>\n",
              "      <td>0</td>\n",
              "      <td>0</td>\n",
              "    </tr>\n",
              "    <tr>\n",
              "      <th>1</th>\n",
              "      <td>Asma bronkial</td>\n",
              "      <td>0</td>\n",
              "      <td>0</td>\n",
              "      <td>0</td>\n",
              "      <td>1</td>\n",
              "      <td>1</td>\n",
              "      <td>1</td>\n",
              "      <td>0</td>\n",
              "      <td>0</td>\n",
              "      <td>0</td>\n",
              "      <td>0</td>\n",
              "      <td>0</td>\n",
              "      <td>0</td>\n",
              "      <td>0</td>\n",
              "      <td>0</td>\n",
              "      <td>0</td>\n",
              "      <td>0</td>\n",
              "      <td>1</td>\n",
              "      <td>1</td>\n",
              "      <td>0</td>\n",
              "      <td>0</td>\n",
              "      <td>0</td>\n",
              "      <td>0</td>\n",
              "      <td>0</td>\n",
              "      <td>0</td>\n",
              "      <td>0</td>\n",
              "      <td>0</td>\n",
              "      <td>0</td>\n",
              "      <td>0</td>\n",
              "      <td>0</td>\n",
              "      <td>0</td>\n",
              "      <td>0</td>\n",
              "      <td>0</td>\n",
              "      <td>0</td>\n",
              "      <td>0</td>\n",
              "      <td>0</td>\n",
              "      <td>0</td>\n",
              "      <td>0</td>\n",
              "      <td>0</td>\n",
              "      <td>0</td>\n",
              "      <td>0</td>\n",
              "      <td>0</td>\n",
              "      <td>0</td>\n",
              "      <td>0</td>\n",
              "      <td>0</td>\n",
              "      <td>0</td>\n",
              "      <td>0</td>\n",
              "      <td>0</td>\n",
              "      <td>0</td>\n",
              "      <td>0</td>\n",
              "      <td>0</td>\n",
              "      <td>0</td>\n",
              "      <td>0</td>\n",
              "      <td>0</td>\n",
              "    </tr>\n",
              "    <tr>\n",
              "      <th>2</th>\n",
              "      <td>Asma bronkial</td>\n",
              "      <td>0</td>\n",
              "      <td>0</td>\n",
              "      <td>1</td>\n",
              "      <td>0</td>\n",
              "      <td>1</td>\n",
              "      <td>1</td>\n",
              "      <td>0</td>\n",
              "      <td>0</td>\n",
              "      <td>0</td>\n",
              "      <td>0</td>\n",
              "      <td>0</td>\n",
              "      <td>0</td>\n",
              "      <td>0</td>\n",
              "      <td>0</td>\n",
              "      <td>0</td>\n",
              "      <td>0</td>\n",
              "      <td>1</td>\n",
              "      <td>1</td>\n",
              "      <td>0</td>\n",
              "      <td>0</td>\n",
              "      <td>0</td>\n",
              "      <td>0</td>\n",
              "      <td>0</td>\n",
              "      <td>0</td>\n",
              "      <td>0</td>\n",
              "      <td>0</td>\n",
              "      <td>0</td>\n",
              "      <td>0</td>\n",
              "      <td>0</td>\n",
              "      <td>0</td>\n",
              "      <td>0</td>\n",
              "      <td>0</td>\n",
              "      <td>0</td>\n",
              "      <td>0</td>\n",
              "      <td>0</td>\n",
              "      <td>0</td>\n",
              "      <td>0</td>\n",
              "      <td>0</td>\n",
              "      <td>0</td>\n",
              "      <td>0</td>\n",
              "      <td>0</td>\n",
              "      <td>0</td>\n",
              "      <td>0</td>\n",
              "      <td>0</td>\n",
              "      <td>0</td>\n",
              "      <td>0</td>\n",
              "      <td>0</td>\n",
              "      <td>0</td>\n",
              "      <td>0</td>\n",
              "      <td>0</td>\n",
              "      <td>0</td>\n",
              "      <td>0</td>\n",
              "      <td>0</td>\n",
              "    </tr>\n",
              "    <tr>\n",
              "      <th>3</th>\n",
              "      <td>Asma bronkial</td>\n",
              "      <td>0</td>\n",
              "      <td>0</td>\n",
              "      <td>1</td>\n",
              "      <td>1</td>\n",
              "      <td>0</td>\n",
              "      <td>1</td>\n",
              "      <td>0</td>\n",
              "      <td>0</td>\n",
              "      <td>0</td>\n",
              "      <td>0</td>\n",
              "      <td>0</td>\n",
              "      <td>0</td>\n",
              "      <td>0</td>\n",
              "      <td>0</td>\n",
              "      <td>0</td>\n",
              "      <td>0</td>\n",
              "      <td>1</td>\n",
              "      <td>1</td>\n",
              "      <td>0</td>\n",
              "      <td>0</td>\n",
              "      <td>0</td>\n",
              "      <td>0</td>\n",
              "      <td>0</td>\n",
              "      <td>0</td>\n",
              "      <td>0</td>\n",
              "      <td>0</td>\n",
              "      <td>0</td>\n",
              "      <td>0</td>\n",
              "      <td>0</td>\n",
              "      <td>0</td>\n",
              "      <td>0</td>\n",
              "      <td>0</td>\n",
              "      <td>0</td>\n",
              "      <td>0</td>\n",
              "      <td>0</td>\n",
              "      <td>0</td>\n",
              "      <td>0</td>\n",
              "      <td>0</td>\n",
              "      <td>0</td>\n",
              "      <td>0</td>\n",
              "      <td>0</td>\n",
              "      <td>0</td>\n",
              "      <td>0</td>\n",
              "      <td>0</td>\n",
              "      <td>0</td>\n",
              "      <td>0</td>\n",
              "      <td>0</td>\n",
              "      <td>0</td>\n",
              "      <td>0</td>\n",
              "      <td>0</td>\n",
              "      <td>0</td>\n",
              "      <td>0</td>\n",
              "      <td>0</td>\n",
              "    </tr>\n",
              "    <tr>\n",
              "      <th>4</th>\n",
              "      <td>Asma bronkial</td>\n",
              "      <td>0</td>\n",
              "      <td>0</td>\n",
              "      <td>1</td>\n",
              "      <td>1</td>\n",
              "      <td>1</td>\n",
              "      <td>0</td>\n",
              "      <td>0</td>\n",
              "      <td>0</td>\n",
              "      <td>0</td>\n",
              "      <td>0</td>\n",
              "      <td>0</td>\n",
              "      <td>0</td>\n",
              "      <td>0</td>\n",
              "      <td>0</td>\n",
              "      <td>0</td>\n",
              "      <td>0</td>\n",
              "      <td>1</td>\n",
              "      <td>1</td>\n",
              "      <td>0</td>\n",
              "      <td>0</td>\n",
              "      <td>0</td>\n",
              "      <td>0</td>\n",
              "      <td>0</td>\n",
              "      <td>0</td>\n",
              "      <td>0</td>\n",
              "      <td>0</td>\n",
              "      <td>0</td>\n",
              "      <td>0</td>\n",
              "      <td>0</td>\n",
              "      <td>0</td>\n",
              "      <td>0</td>\n",
              "      <td>0</td>\n",
              "      <td>0</td>\n",
              "      <td>0</td>\n",
              "      <td>0</td>\n",
              "      <td>0</td>\n",
              "      <td>0</td>\n",
              "      <td>0</td>\n",
              "      <td>0</td>\n",
              "      <td>0</td>\n",
              "      <td>0</td>\n",
              "      <td>0</td>\n",
              "      <td>0</td>\n",
              "      <td>0</td>\n",
              "      <td>0</td>\n",
              "      <td>0</td>\n",
              "      <td>0</td>\n",
              "      <td>0</td>\n",
              "      <td>0</td>\n",
              "      <td>0</td>\n",
              "      <td>0</td>\n",
              "      <td>0</td>\n",
              "      <td>0</td>\n",
              "    </tr>\n",
              "  </tbody>\n",
              "</table>\n",
              "</div>"
            ],
            "text/plain": [
              "        prognosa  nyeri   ...  denyut nadi cepat  warna kulit kebiruan\n",
              "0  Asma bronkial       0  ...                  0                     0\n",
              "1  Asma bronkial       0  ...                  0                     0\n",
              "2  Asma bronkial       0  ...                  0                     0\n",
              "3  Asma bronkial       0  ...                  0                     0\n",
              "4  Asma bronkial       0  ...                  0                     0\n",
              "\n",
              "[5 rows x 54 columns]"
            ]
          },
          "metadata": {
            "tags": []
          },
          "execution_count": 2
        }
      ]
    },
    {
      "cell_type": "code",
      "metadata": {
        "colab": {
          "base_uri": "https://localhost:8080/"
        },
        "id": "rbnzaU5T4XWB",
        "outputId": "d98aa22d-5c6a-49ff-8bb6-0c58d520c499"
      },
      "source": [
        "df.loc[10]"
      ],
      "execution_count": null,
      "outputs": [
        {
          "output_type": "execute_result",
          "data": {
            "text/plain": [
              "prognosa                            Kelumpuhan (pendarahan otak)\n",
              "nyeri                                                          0\n",
              "mual dan muntah                                                1\n",
              "kelelahan                                                      0\n",
              "batuk                                                          0\n",
              "demam tinggi                                                   0\n",
              "kesulitan bernapas                                             0\n",
              "sakit kepala                                                   1\n",
              "sakit leher                                                    0\n",
              "sakit lutut                                                    0\n",
              "nyeri sendi pinggul                                            0\n",
              "kelemahan otot                                                 0\n",
              "leher kaku                                                     0\n",
              "bengkak atau memar                                             0\n",
              "gerakan kaku                                                   0\n",
              "kelemahan satu sisi tubuh                                      1\n",
              "sensor berubah                                                 1\n",
              "riwayat keluarga                                               0\n",
              "dahak berlendir                                                0\n",
              "sakit saat berjalan                                            0\n",
              "kebingungan                                                    0\n",
              "hilang kesadaran                                               0\n",
              "penurunan kesadaran                                            0\n",
              "penglihatan kabur                                              0\n",
              "telinga berdering                                              0\n",
              "mati rasa atau kesemutan                                       0\n",
              "kesulitan mengontrol BAB dan BAK                               0\n",
              "kesulitan berjalan                                             0\n",
              "lumpuh                                                         0\n",
              "lupa kejadian                                                  0\n",
              "gelisah                                                        0\n",
              "kesulitan berbicara                                            0\n",
              "nadi lemah                                                     0\n",
              "tangan dan kaki dingin                                         0\n",
              "kehilangan keseimbangan                                        0\n",
              "kejang                                                         0\n",
              "kejang otot                                                    0\n",
              "tulang mencuat keluar dari kulit                               0\n",
              "sulit menggerakkan bagian tubuh                                0\n",
              "deformitas                                                     0\n",
              "kemampuan gerak terbatas                                       0\n",
              "detak jantung bertambah                                        0\n",
              "pucat                                                          0\n",
              "lemas                                                          0\n",
              "otot kaku                                                      0\n",
              "bentuk sendi tidak normal                                      0\n",
              "kram otot                                                      0\n",
              "perut kaku                                                     0\n",
              "sakit perut                                                    0\n",
              "berkeringat                                                    0\n",
              "tekanan darah rendah                                           0\n",
              "perdarahan akut                                                0\n",
              "denyut nadi cepat                                              0\n",
              "warna kulit kebiruan                                           0\n",
              "Name: 10, dtype: object"
            ]
          },
          "metadata": {
            "tags": []
          },
          "execution_count": 3
        }
      ]
    },
    {
      "cell_type": "code",
      "metadata": {
        "colab": {
          "base_uri": "https://localhost:8080/"
        },
        "id": "WPfJ8pOuO8uz",
        "outputId": "48c3253b-6f46-43c3-bb91-7026af1a18dc"
      },
      "source": [
        "df['prognosa'].unique()\n",
        "len(df['prognosa'].unique())"
      ],
      "execution_count": null,
      "outputs": [
        {
          "output_type": "execute_result",
          "data": {
            "text/plain": [
              "23"
            ]
          },
          "metadata": {
            "tags": []
          },
          "execution_count": 4
        }
      ]
    },
    {
      "cell_type": "code",
      "metadata": {
        "colab": {
          "base_uri": "https://localhost:8080/"
        },
        "id": "eLcUNuFeO8n7",
        "outputId": "92682f0a-0f6c-4555-b368-3c35a327a9c8"
      },
      "source": [
        "df['prognosa'].value_counts()"
      ],
      "execution_count": null,
      "outputs": [
        {
          "output_type": "execute_result",
          "data": {
            "text/plain": [
              "Cedera saraf tulang belakang     120\n",
              "Cedera leher                     120\n",
              "Gegar otak                       120\n",
              "Cedera kepala berat              120\n",
              "Cedera kepala sedang             120\n",
              "Pendarahan otak                  120\n",
              "Cedera kepala ringan             120\n",
              "Keseleo atau terkilir            120\n",
              "Dislokasi (pergeseran sendi)     120\n",
              "Cedera otot                      120\n",
              "Hipoksia (kekurangan oksigen)    120\n",
              "Radang sendi                     120\n",
              "Pneumotoraks                     120\n",
              "Hemothorax                       120\n",
              "Osteoartritis                    120\n",
              "Asma bronkial                    120\n",
              "Cedera otak traumatis            120\n",
              "Trauma abdomen                   120\n",
              "Kelumpuhan (pendarahan otak)     120\n",
              "Patah tulang                     120\n",
              "Cedera dada                      120\n",
              "Anemia                           120\n",
              "Pendarahan subaraknoid           120\n",
              "Name: prognosa, dtype: int64"
            ]
          },
          "metadata": {
            "tags": []
          },
          "execution_count": 5
        }
      ]
    },
    {
      "cell_type": "code",
      "metadata": {
        "colab": {
          "base_uri": "https://localhost:8080/"
        },
        "id": "9_mSqBU-O8hh",
        "outputId": "b1c3520b-c010-43a1-cbd1-39bc784b1464"
      },
      "source": [
        "df.columns\n",
        "len(df.columns)"
      ],
      "execution_count": null,
      "outputs": [
        {
          "output_type": "execute_result",
          "data": {
            "text/plain": [
              "54"
            ]
          },
          "metadata": {
            "tags": []
          },
          "execution_count": 6
        }
      ]
    },
    {
      "cell_type": "code",
      "metadata": {
        "colab": {
          "base_uri": "https://localhost:8080/",
          "height": 377
        },
        "id": "EMWvAKQQO8ZZ",
        "outputId": "b2c1385a-0193-42b5-989c-a06be647d460"
      },
      "source": [
        "df1 = pd.read_csv('testing.csv')\n",
        "df1.head() "
      ],
      "execution_count": null,
      "outputs": [
        {
          "output_type": "execute_result",
          "data": {
            "text/html": [
              "<div>\n",
              "<style scoped>\n",
              "    .dataframe tbody tr th:only-of-type {\n",
              "        vertical-align: middle;\n",
              "    }\n",
              "\n",
              "    .dataframe tbody tr th {\n",
              "        vertical-align: top;\n",
              "    }\n",
              "\n",
              "    .dataframe thead th {\n",
              "        text-align: right;\n",
              "    }\n",
              "</style>\n",
              "<table border=\"1\" class=\"dataframe\">\n",
              "  <thead>\n",
              "    <tr style=\"text-align: right;\">\n",
              "      <th></th>\n",
              "      <th>prognosa</th>\n",
              "      <th>nyeri</th>\n",
              "      <th>mual dan muntah</th>\n",
              "      <th>kelelahan</th>\n",
              "      <th>batuk</th>\n",
              "      <th>demam tinggi</th>\n",
              "      <th>kesulitan bernapas</th>\n",
              "      <th>sakit kepala</th>\n",
              "      <th>sakit leher</th>\n",
              "      <th>sakit lutut</th>\n",
              "      <th>nyeri sendi pinggul</th>\n",
              "      <th>kelemahan otot</th>\n",
              "      <th>leher kaku</th>\n",
              "      <th>bengkak atau memar</th>\n",
              "      <th>gerakan kaku</th>\n",
              "      <th>kelemahan satu sisi tubuh</th>\n",
              "      <th>sensor berubah</th>\n",
              "      <th>riwayat keluarga</th>\n",
              "      <th>dahak berlendir</th>\n",
              "      <th>sakit saat berjalan</th>\n",
              "      <th>kebingungan</th>\n",
              "      <th>hilang kesadaran</th>\n",
              "      <th>penurunan kesadaran</th>\n",
              "      <th>penglihatan kabur</th>\n",
              "      <th>telinga berdering</th>\n",
              "      <th>mati rasa atau kesemutan</th>\n",
              "      <th>kesulitan mengontrol BAB dan BAK</th>\n",
              "      <th>kesulitan berjalan</th>\n",
              "      <th>lumpuh</th>\n",
              "      <th>lupa kejadian</th>\n",
              "      <th>gelisah</th>\n",
              "      <th>kesulitan berbicara</th>\n",
              "      <th>nadi lemah</th>\n",
              "      <th>tangan dan kaki dingin</th>\n",
              "      <th>kehilangan keseimbangan</th>\n",
              "      <th>kejang</th>\n",
              "      <th>kejang otot</th>\n",
              "      <th>tulang mencuat keluar dari kulit</th>\n",
              "      <th>sulit menggerakkan bagian tubuh</th>\n",
              "      <th>deformitas</th>\n",
              "      <th>kemampuan gerak terbatas</th>\n",
              "      <th>detak jantung bertambah</th>\n",
              "      <th>pucat</th>\n",
              "      <th>lemas</th>\n",
              "      <th>otot kaku</th>\n",
              "      <th>bentuk sendi tidak normal</th>\n",
              "      <th>kram otot</th>\n",
              "      <th>perut kaku</th>\n",
              "      <th>sakit perut</th>\n",
              "      <th>berkeringat</th>\n",
              "      <th>tekanan darah rendah</th>\n",
              "      <th>perdarahan akut</th>\n",
              "      <th>denyut nadi cepat</th>\n",
              "      <th>warna kulit kebiruan</th>\n",
              "    </tr>\n",
              "  </thead>\n",
              "  <tbody>\n",
              "    <tr>\n",
              "      <th>0</th>\n",
              "      <td>Asma bronkial</td>\n",
              "      <td>0</td>\n",
              "      <td>0</td>\n",
              "      <td>1</td>\n",
              "      <td>1</td>\n",
              "      <td>1</td>\n",
              "      <td>1</td>\n",
              "      <td>0</td>\n",
              "      <td>0</td>\n",
              "      <td>0</td>\n",
              "      <td>0</td>\n",
              "      <td>0</td>\n",
              "      <td>0</td>\n",
              "      <td>0</td>\n",
              "      <td>0</td>\n",
              "      <td>0</td>\n",
              "      <td>0</td>\n",
              "      <td>1</td>\n",
              "      <td>1</td>\n",
              "      <td>0</td>\n",
              "      <td>0</td>\n",
              "      <td>0</td>\n",
              "      <td>0</td>\n",
              "      <td>0</td>\n",
              "      <td>0</td>\n",
              "      <td>0</td>\n",
              "      <td>0</td>\n",
              "      <td>0</td>\n",
              "      <td>0</td>\n",
              "      <td>0</td>\n",
              "      <td>0</td>\n",
              "      <td>0</td>\n",
              "      <td>0</td>\n",
              "      <td>0</td>\n",
              "      <td>0</td>\n",
              "      <td>0</td>\n",
              "      <td>0</td>\n",
              "      <td>0</td>\n",
              "      <td>0</td>\n",
              "      <td>0</td>\n",
              "      <td>0</td>\n",
              "      <td>0</td>\n",
              "      <td>0</td>\n",
              "      <td>0</td>\n",
              "      <td>0</td>\n",
              "      <td>0</td>\n",
              "      <td>0</td>\n",
              "      <td>0</td>\n",
              "      <td>0</td>\n",
              "      <td>0</td>\n",
              "      <td>0</td>\n",
              "      <td>0</td>\n",
              "      <td>0</td>\n",
              "      <td>0</td>\n",
              "    </tr>\n",
              "    <tr>\n",
              "      <th>1</th>\n",
              "      <td>Kelumpuhan (pendarahan otak)</td>\n",
              "      <td>0</td>\n",
              "      <td>1</td>\n",
              "      <td>0</td>\n",
              "      <td>0</td>\n",
              "      <td>0</td>\n",
              "      <td>0</td>\n",
              "      <td>1</td>\n",
              "      <td>0</td>\n",
              "      <td>0</td>\n",
              "      <td>0</td>\n",
              "      <td>0</td>\n",
              "      <td>0</td>\n",
              "      <td>0</td>\n",
              "      <td>0</td>\n",
              "      <td>1</td>\n",
              "      <td>1</td>\n",
              "      <td>0</td>\n",
              "      <td>0</td>\n",
              "      <td>0</td>\n",
              "      <td>0</td>\n",
              "      <td>0</td>\n",
              "      <td>0</td>\n",
              "      <td>0</td>\n",
              "      <td>0</td>\n",
              "      <td>0</td>\n",
              "      <td>0</td>\n",
              "      <td>0</td>\n",
              "      <td>0</td>\n",
              "      <td>0</td>\n",
              "      <td>0</td>\n",
              "      <td>0</td>\n",
              "      <td>0</td>\n",
              "      <td>0</td>\n",
              "      <td>0</td>\n",
              "      <td>0</td>\n",
              "      <td>0</td>\n",
              "      <td>0</td>\n",
              "      <td>0</td>\n",
              "      <td>0</td>\n",
              "      <td>0</td>\n",
              "      <td>0</td>\n",
              "      <td>0</td>\n",
              "      <td>0</td>\n",
              "      <td>0</td>\n",
              "      <td>0</td>\n",
              "      <td>0</td>\n",
              "      <td>0</td>\n",
              "      <td>0</td>\n",
              "      <td>0</td>\n",
              "      <td>0</td>\n",
              "      <td>0</td>\n",
              "      <td>0</td>\n",
              "      <td>0</td>\n",
              "    </tr>\n",
              "    <tr>\n",
              "      <th>2</th>\n",
              "      <td>Osteoartritis</td>\n",
              "      <td>1</td>\n",
              "      <td>0</td>\n",
              "      <td>0</td>\n",
              "      <td>0</td>\n",
              "      <td>0</td>\n",
              "      <td>0</td>\n",
              "      <td>0</td>\n",
              "      <td>1</td>\n",
              "      <td>1</td>\n",
              "      <td>1</td>\n",
              "      <td>0</td>\n",
              "      <td>0</td>\n",
              "      <td>1</td>\n",
              "      <td>0</td>\n",
              "      <td>0</td>\n",
              "      <td>0</td>\n",
              "      <td>0</td>\n",
              "      <td>0</td>\n",
              "      <td>1</td>\n",
              "      <td>0</td>\n",
              "      <td>0</td>\n",
              "      <td>0</td>\n",
              "      <td>0</td>\n",
              "      <td>0</td>\n",
              "      <td>0</td>\n",
              "      <td>0</td>\n",
              "      <td>0</td>\n",
              "      <td>0</td>\n",
              "      <td>0</td>\n",
              "      <td>0</td>\n",
              "      <td>0</td>\n",
              "      <td>0</td>\n",
              "      <td>0</td>\n",
              "      <td>0</td>\n",
              "      <td>0</td>\n",
              "      <td>0</td>\n",
              "      <td>0</td>\n",
              "      <td>0</td>\n",
              "      <td>0</td>\n",
              "      <td>0</td>\n",
              "      <td>0</td>\n",
              "      <td>0</td>\n",
              "      <td>0</td>\n",
              "      <td>0</td>\n",
              "      <td>0</td>\n",
              "      <td>0</td>\n",
              "      <td>0</td>\n",
              "      <td>0</td>\n",
              "      <td>0</td>\n",
              "      <td>0</td>\n",
              "      <td>0</td>\n",
              "      <td>0</td>\n",
              "      <td>0</td>\n",
              "    </tr>\n",
              "    <tr>\n",
              "      <th>3</th>\n",
              "      <td>Radang sendi</td>\n",
              "      <td>0</td>\n",
              "      <td>0</td>\n",
              "      <td>0</td>\n",
              "      <td>0</td>\n",
              "      <td>0</td>\n",
              "      <td>0</td>\n",
              "      <td>0</td>\n",
              "      <td>0</td>\n",
              "      <td>0</td>\n",
              "      <td>0</td>\n",
              "      <td>1</td>\n",
              "      <td>1</td>\n",
              "      <td>1</td>\n",
              "      <td>1</td>\n",
              "      <td>0</td>\n",
              "      <td>0</td>\n",
              "      <td>0</td>\n",
              "      <td>0</td>\n",
              "      <td>1</td>\n",
              "      <td>0</td>\n",
              "      <td>0</td>\n",
              "      <td>0</td>\n",
              "      <td>0</td>\n",
              "      <td>0</td>\n",
              "      <td>0</td>\n",
              "      <td>0</td>\n",
              "      <td>0</td>\n",
              "      <td>0</td>\n",
              "      <td>0</td>\n",
              "      <td>0</td>\n",
              "      <td>0</td>\n",
              "      <td>0</td>\n",
              "      <td>0</td>\n",
              "      <td>0</td>\n",
              "      <td>0</td>\n",
              "      <td>0</td>\n",
              "      <td>0</td>\n",
              "      <td>0</td>\n",
              "      <td>0</td>\n",
              "      <td>0</td>\n",
              "      <td>0</td>\n",
              "      <td>0</td>\n",
              "      <td>0</td>\n",
              "      <td>0</td>\n",
              "      <td>0</td>\n",
              "      <td>0</td>\n",
              "      <td>0</td>\n",
              "      <td>0</td>\n",
              "      <td>0</td>\n",
              "      <td>0</td>\n",
              "      <td>0</td>\n",
              "      <td>0</td>\n",
              "      <td>0</td>\n",
              "    </tr>\n",
              "    <tr>\n",
              "      <th>4</th>\n",
              "      <td>Cedera otak traumatis</td>\n",
              "      <td>0</td>\n",
              "      <td>1</td>\n",
              "      <td>0</td>\n",
              "      <td>0</td>\n",
              "      <td>0</td>\n",
              "      <td>0</td>\n",
              "      <td>1</td>\n",
              "      <td>0</td>\n",
              "      <td>0</td>\n",
              "      <td>0</td>\n",
              "      <td>0</td>\n",
              "      <td>0</td>\n",
              "      <td>0</td>\n",
              "      <td>0</td>\n",
              "      <td>0</td>\n",
              "      <td>0</td>\n",
              "      <td>0</td>\n",
              "      <td>0</td>\n",
              "      <td>0</td>\n",
              "      <td>1</td>\n",
              "      <td>1</td>\n",
              "      <td>0</td>\n",
              "      <td>1</td>\n",
              "      <td>1</td>\n",
              "      <td>0</td>\n",
              "      <td>0</td>\n",
              "      <td>0</td>\n",
              "      <td>0</td>\n",
              "      <td>0</td>\n",
              "      <td>0</td>\n",
              "      <td>0</td>\n",
              "      <td>0</td>\n",
              "      <td>0</td>\n",
              "      <td>0</td>\n",
              "      <td>0</td>\n",
              "      <td>0</td>\n",
              "      <td>0</td>\n",
              "      <td>0</td>\n",
              "      <td>0</td>\n",
              "      <td>0</td>\n",
              "      <td>0</td>\n",
              "      <td>0</td>\n",
              "      <td>0</td>\n",
              "      <td>0</td>\n",
              "      <td>0</td>\n",
              "      <td>0</td>\n",
              "      <td>0</td>\n",
              "      <td>0</td>\n",
              "      <td>0</td>\n",
              "      <td>0</td>\n",
              "      <td>0</td>\n",
              "      <td>0</td>\n",
              "      <td>0</td>\n",
              "    </tr>\n",
              "  </tbody>\n",
              "</table>\n",
              "</div>"
            ],
            "text/plain": [
              "                       prognosa  ...  warna kulit kebiruan\n",
              "0                 Asma bronkial  ...                     0\n",
              "1  Kelumpuhan (pendarahan otak)  ...                     0\n",
              "2                 Osteoartritis  ...                     0\n",
              "3                  Radang sendi  ...                     0\n",
              "4         Cedera otak traumatis  ...                     0\n",
              "\n",
              "[5 rows x 54 columns]"
            ]
          },
          "metadata": {
            "tags": []
          },
          "execution_count": 7
        }
      ]
    },
    {
      "cell_type": "code",
      "metadata": {
        "id": "RBM8ZVjuo4NA"
      },
      "source": [
        "#df.loc[:, df.isnull().any()]"
      ],
      "execution_count": null,
      "outputs": []
    },
    {
      "cell_type": "code",
      "metadata": {
        "id": "EkoV3hX7O8Ru"
      },
      "source": [
        "gejala_training = df.iloc[:, 1:]\n",
        "prognosa_training = df.iloc[:, 0]\n",
        "gejala_test = df1.iloc[:, 1:]\n",
        "prognosa_test = df1.iloc[:, 0]"
      ],
      "execution_count": null,
      "outputs": []
    },
    {
      "cell_type": "code",
      "metadata": {
        "colab": {
          "base_uri": "https://localhost:8080/"
        },
        "id": "FsOeqeQsO8LX",
        "outputId": "3836c0b0-ff76-4a4a-a234-41d96cfd8e01"
      },
      "source": [
        "model= LogisticRegression(class_weight=\"balanced\")\n",
        "model.fit(gejala_training,prognosa_training)\n",
        "print(model)"
      ],
      "execution_count": null,
      "outputs": [
        {
          "output_type": "stream",
          "text": [
            "LogisticRegression(C=1.0, class_weight='balanced', dual=False,\n",
            "                   fit_intercept=True, intercept_scaling=1, l1_ratio=None,\n",
            "                   max_iter=100, multi_class='auto', n_jobs=None, penalty='l2',\n",
            "                   random_state=None, solver='lbfgs', tol=0.0001, verbose=0,\n",
            "                   warm_start=False)\n"
          ],
          "name": "stdout"
        }
      ]
    },
    {
      "cell_type": "code",
      "metadata": {
        "colab": {
          "base_uri": "https://localhost:8080/"
        },
        "id": "GNpc8ElJlJjG",
        "outputId": "9ef60c5c-3a82-4e3a-a8ed-6c4c4504653a"
      },
      "source": [
        "model.classes_"
      ],
      "execution_count": null,
      "outputs": [
        {
          "output_type": "execute_result",
          "data": {
            "text/plain": [
              "array(['Anemia', 'Asma bronkial', 'Cedera dada', 'Cedera kepala berat',\n",
              "       'Cedera kepala ringan', 'Cedera kepala sedang', 'Cedera leher',\n",
              "       'Cedera otak traumatis', 'Cedera otot',\n",
              "       'Cedera saraf tulang belakang', 'Dislokasi (pergeseran sendi)',\n",
              "       'Gegar otak', 'Hemothorax', 'Hipoksia (kekurangan oksigen)',\n",
              "       'Kelumpuhan (pendarahan otak)', 'Keseleo atau terkilir',\n",
              "       'Osteoartritis', 'Patah tulang', 'Pendarahan otak',\n",
              "       'Pendarahan subaraknoid', 'Pneumotoraks', 'Radang sendi',\n",
              "       'Trauma abdomen'], dtype=object)"
            ]
          },
          "metadata": {
            "tags": []
          },
          "execution_count": 10
        }
      ]
    },
    {
      "cell_type": "code",
      "metadata": {
        "id": "Lc5WljmxO8BP",
        "colab": {
          "base_uri": "https://localhost:8080/"
        },
        "outputId": "011385c9-16a1-48df-e8bf-8b5b72721505"
      },
      "source": [
        "predictions = model.predict(gejala_test)\n",
        "pred_prob = model.predict_proba(gejala_test)\n",
        "print(predictions)\n",
        "print(prognosa_test)"
      ],
      "execution_count": null,
      "outputs": [
        {
          "output_type": "stream",
          "text": [
            "['Asma bronkial' 'Kelumpuhan (pendarahan otak)' 'Osteoartritis'\n",
            " 'Radang sendi' 'Cedera otak traumatis' 'Cedera leher' 'Cedera dada'\n",
            " 'Cedera saraf tulang belakang' 'Cedera kepala ringan'\n",
            " 'Cedera kepala sedang' 'Cedera kepala berat' 'Gegar otak' 'Patah tulang'\n",
            " 'Keseleo atau terkilir' 'Hemothorax' 'Pendarahan otak'\n",
            " 'Pendarahan subaraknoid' 'Cedera otot' 'Pneumotoraks' 'Anemia'\n",
            " 'Dislokasi (pergeseran sendi)' 'Hipoksia (kekurangan oksigen)'\n",
            " 'Trauma abdomen']\n",
            "0                     Asma bronkial\n",
            "1      Kelumpuhan (pendarahan otak)\n",
            "2                     Osteoartritis\n",
            "3                      Radang sendi\n",
            "4             Cedera otak traumatis\n",
            "5                      Cedera leher\n",
            "6                       Cedera dada\n",
            "7      Cedera saraf tulang belakang\n",
            "8              Cedera kepala ringan\n",
            "9              Cedera kepala sedang\n",
            "10              Cedera kepala berat\n",
            "11                       Gegar otak\n",
            "12                     Patah tulang\n",
            "13            Keseleo atau terkilir\n",
            "14                       Hemothorax\n",
            "15                  Pendarahan otak\n",
            "16           Pendarahan subaraknoid\n",
            "17                      Cedera otot\n",
            "18                     Pneumotoraks\n",
            "19                           Anemia\n",
            "20     Dislokasi (pergeseran sendi)\n",
            "21    Hipoksia (kekurangan oksigen)\n",
            "22                   Trauma abdomen\n",
            "Name: prognosa, dtype: object\n"
          ],
          "name": "stdout"
        }
      ]
    },
    {
      "cell_type": "code",
      "metadata": {
        "colab": {
          "base_uri": "https://localhost:8080/"
        },
        "id": "Zun3dCxSS-aS",
        "outputId": "7e8d1672-697d-4b57-c78a-b0503176b532"
      },
      "source": [
        "accuracy_score(prognosa_test,predictions)"
      ],
      "execution_count": null,
      "outputs": [
        {
          "output_type": "execute_result",
          "data": {
            "text/plain": [
              "1.0"
            ]
          },
          "metadata": {
            "tags": []
          },
          "execution_count": 12
        }
      ]
    },
    {
      "cell_type": "code",
      "metadata": {
        "colab": {
          "base_uri": "https://localhost:8080/"
        },
        "id": "2wx2VO9PS_ey",
        "outputId": "cf40c4c2-3903-40ff-858d-d6cd777140e9"
      },
      "source": [
        "print(classification_report(prognosa_test, predictions))"
      ],
      "execution_count": null,
      "outputs": [
        {
          "output_type": "stream",
          "text": [
            "                               precision    recall  f1-score   support\n",
            "\n",
            "                       Anemia       1.00      1.00      1.00         1\n",
            "                Asma bronkial       1.00      1.00      1.00         1\n",
            "                  Cedera dada       1.00      1.00      1.00         1\n",
            "          Cedera kepala berat       1.00      1.00      1.00         1\n",
            "         Cedera kepala ringan       1.00      1.00      1.00         1\n",
            "         Cedera kepala sedang       1.00      1.00      1.00         1\n",
            "                 Cedera leher       1.00      1.00      1.00         1\n",
            "        Cedera otak traumatis       1.00      1.00      1.00         1\n",
            "                  Cedera otot       1.00      1.00      1.00         1\n",
            " Cedera saraf tulang belakang       1.00      1.00      1.00         1\n",
            " Dislokasi (pergeseran sendi)       1.00      1.00      1.00         1\n",
            "                   Gegar otak       1.00      1.00      1.00         1\n",
            "                   Hemothorax       1.00      1.00      1.00         1\n",
            "Hipoksia (kekurangan oksigen)       1.00      1.00      1.00         1\n",
            " Kelumpuhan (pendarahan otak)       1.00      1.00      1.00         1\n",
            "        Keseleo atau terkilir       1.00      1.00      1.00         1\n",
            "                Osteoartritis       1.00      1.00      1.00         1\n",
            "                 Patah tulang       1.00      1.00      1.00         1\n",
            "              Pendarahan otak       1.00      1.00      1.00         1\n",
            "       Pendarahan subaraknoid       1.00      1.00      1.00         1\n",
            "                 Pneumotoraks       1.00      1.00      1.00         1\n",
            "                 Radang sendi       1.00      1.00      1.00         1\n",
            "               Trauma abdomen       1.00      1.00      1.00         1\n",
            "\n",
            "                     accuracy                           1.00        23\n",
            "                    macro avg       1.00      1.00      1.00        23\n",
            "                 weighted avg       1.00      1.00      1.00        23\n",
            "\n"
          ],
          "name": "stdout"
        }
      ]
    },
    {
      "cell_type": "code",
      "metadata": {
        "id": "es7VqQqOO71N"
      },
      "source": [
        "# define input gejala\n",
        "new_input = [[0\t,0\t,1\t,1\t,1\t,1\t,0\t,0\t,0\t,0\t,0\t,0\t,0\t,0\t,0\t,0\t,1\t,1\t,0\t,0\t,0\t,0\t,0\t,0\t,0\t,0\t,0\t,0\t,0\t,0\t,0\t,0\t,0\t,0\t,0\t,0\t,0\t,0\t,0\t,0\t,0\t,0\t,0\t,0\t,0\t,0\t,0\t,0\t,0\t,0\t,0\t,0\t,0\n",
        "\n",
        "]]"
      ],
      "execution_count": null,
      "outputs": []
    },
    {
      "cell_type": "code",
      "metadata": {
        "colab": {
          "base_uri": "https://localhost:8080/"
        },
        "id": "okJt8yS9TH07",
        "outputId": "457a62c0-52ae-4c0e-8435-c80e2a6dfef1"
      },
      "source": [
        "# prediction using data gejala_test\n",
        "predict_result_all = model.predict(gejala_test)\n",
        "print(predict_result_all)\n",
        "\n",
        "# get prediction for new input\n",
        "predict_result = model.predict(new_input)\n",
        "predict_r = model.predict_proba(new_input)\n",
        "print(predict_result)\n",
        "print(predict_r)\n",
        "ix = predict_r.argmax(1).item()\n",
        "print(ix)\n",
        "proba = predict_r[0,ix]\n",
        "print(proba*100)\n",
        "print(f'Prediksi penyakit = {predict_result} and probabilitas = {proba:.2%}')"
      ],
      "execution_count": null,
      "outputs": [
        {
          "output_type": "stream",
          "text": [
            "['Asma bronkial' 'Kelumpuhan (pendarahan otak)' 'Osteoartritis'\n",
            " 'Radang sendi' 'Cedera otak traumatis' 'Cedera leher' 'Cedera dada'\n",
            " 'Cedera saraf tulang belakang' 'Cedera kepala ringan'\n",
            " 'Cedera kepala sedang' 'Cedera kepala berat' 'Gegar otak' 'Patah tulang'\n",
            " 'Keseleo atau terkilir' 'Hemothorax' 'Pendarahan otak'\n",
            " 'Pendarahan subaraknoid' 'Cedera otot' 'Pneumotoraks' 'Anemia'\n",
            " 'Dislokasi (pergeseran sendi)' 'Hipoksia (kekurangan oksigen)'\n",
            " 'Trauma abdomen']\n",
            "['Asma bronkial']\n",
            "[[6.51199248e-05 9.93901159e-01 4.90740762e-04 6.99180239e-04\n",
            "  1.90517179e-04 2.82763128e-04 4.48849612e-04 2.51977593e-04\n",
            "  4.22122689e-05 2.82086153e-04 3.46173205e-05 1.38473980e-04\n",
            "  9.82600103e-04 3.32360965e-04 1.17307251e-04 7.30556859e-05\n",
            "  5.62966947e-05 2.28186896e-04 5.97186847e-05 4.54139352e-05\n",
            "  9.97124093e-04 9.68762047e-05 1.83361897e-04]]\n",
            "1\n",
            "99.39011594276815\n",
            "Prediksi penyakit = ['Asma bronkial'] and probabilitas = 99.39%\n"
          ],
          "name": "stdout"
        }
      ]
    },
    {
      "cell_type": "code",
      "metadata": {
        "id": "quO8YO9Kdj0Z",
        "colab": {
          "base_uri": "https://localhost:8080/"
        },
        "outputId": "a40f5aab-7e58-4c12-f9da-75a5da42dc23"
      },
      "source": [
        "classes = df.prognosa\n",
        "classes"
      ],
      "execution_count": null,
      "outputs": [
        {
          "output_type": "execute_result",
          "data": {
            "text/plain": [
              "0        Asma bronkial\n",
              "1        Asma bronkial\n",
              "2        Asma bronkial\n",
              "3        Asma bronkial\n",
              "4        Asma bronkial\n",
              "             ...      \n",
              "2755    Trauma abdomen\n",
              "2756    Trauma abdomen\n",
              "2757    Trauma abdomen\n",
              "2758    Trauma abdomen\n",
              "2759    Trauma abdomen\n",
              "Name: prognosa, Length: 2760, dtype: object"
            ]
          },
          "metadata": {
            "tags": []
          },
          "execution_count": 18
        }
      ]
    },
    {
      "cell_type": "code",
      "metadata": {
        "id": "yklMYugiTUyq"
      },
      "source": [
        "import pickle"
      ],
      "execution_count": null,
      "outputs": []
    },
    {
      "cell_type": "code",
      "metadata": {
        "id": "259DgxTxTZK2"
      },
      "source": [
        "Pkl_Filename = \"Predict_model.pkl\"  \n",
        "\n",
        "with open(Pkl_Filename, 'wb') as file:  \n",
        "    pickle.dump(model, file)"
      ],
      "execution_count": null,
      "outputs": []
    },
    {
      "cell_type": "code",
      "metadata": {
        "colab": {
          "base_uri": "https://localhost:8080/"
        },
        "id": "OFOCrR0eTbNr",
        "outputId": "f9253a32-4bf4-4523-ceec-e4fbe847c23b"
      },
      "source": [
        "# Load the Model back from file\n",
        "with open(Pkl_Filename, 'rb') as file:  \n",
        "    Predict_model = pickle.load(file)\n",
        "\n",
        "Predict_model"
      ],
      "execution_count": null,
      "outputs": [
        {
          "output_type": "execute_result",
          "data": {
            "text/plain": [
              "LogisticRegression(C=1.0, class_weight='balanced', dual=False,\n",
              "                   fit_intercept=True, intercept_scaling=1, l1_ratio=None,\n",
              "                   max_iter=100, multi_class='auto', n_jobs=None, penalty='l2',\n",
              "                   random_state=None, solver='lbfgs', tol=0.0001, verbose=0,\n",
              "                   warm_start=False)"
            ]
          },
          "metadata": {
            "tags": []
          },
          "execution_count": 22
        }
      ]
    },
    {
      "cell_type": "code",
      "metadata": {
        "colab": {
          "base_uri": "https://localhost:8080/"
        },
        "id": "PEoEXAOsTdvg",
        "outputId": "0f51b80e-0510-4713-e6b5-9019e1e79a1e"
      },
      "source": [
        "# Use the Reloaded Model to \n",
        "# Calculate the accuracy score and predict target values\n",
        "\n",
        "# Calculate the Score \n",
        "score = Predict_model.score(gejala_training, prognosa_training)  \n",
        "# Print the Score\n",
        "print(\"Test score: {0:.2f} %\".format(100 * score))  \n",
        "\n",
        "# Predict the Labels using the reloaded Model\n",
        "Ypredict = Predict_model.predict(new_input)  \n",
        "\n",
        "Ypredict"
      ],
      "execution_count": null,
      "outputs": [
        {
          "output_type": "stream",
          "text": [
            "Test score: 97.57 %\n"
          ],
          "name": "stdout"
        },
        {
          "output_type": "execute_result",
          "data": {
            "text/plain": [
              "array(['Asma bronkial'], dtype=object)"
            ]
          },
          "metadata": {
            "tags": []
          },
          "execution_count": 23
        }
      ]
    }
  ]
}